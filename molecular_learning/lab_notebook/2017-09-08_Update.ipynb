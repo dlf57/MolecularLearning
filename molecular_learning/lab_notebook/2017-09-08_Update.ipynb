{
 "cells": [
  {
   "cell_type": "markdown",
   "metadata": {},
   "source": [
    "# Molecular Learning\n",
    "Sept. 8, 2017 "
   ]
  },
  {
   "cell_type": "markdown",
   "metadata": {},
   "source": [
    "### Import libraries \n",
    "This project will be using [scikit-learn](http://scikit-learn.org/stable/)'s Kernel Ridge Regression classifier for machine learning. \n",
    "To get started we need to import the necessary libraries as well as make sure we are properly calling openbabel."
   ]
  },
  {
   "cell_type": "code",
   "execution_count": 1,
   "metadata": {
    "collapsed": true
   },
   "outputs": [],
   "source": [
    "import glob\n",
    "import numpy as np\n",
    "import pybel\n",
    "import pandas as pd\n",
    "from sklearn.model_selection import train_test_split\n",
    "from sklearn.kernel_ridge import KernelRidge\n",
    "from sklearn.metrics import mean_absolute_error\n",
    "import matplotlib.pyplot as plt\n",
    "from matplotlib import style\n",
    "import csv\n",
    "\n",
    "ob = pybel.ob\n",
    "\n",
    "\n",
    "def atomType(mol, atomIdx):\n",
    "    # get the atomic type given an atom index\n",
    "    return mol.OBMol.GetAtom(atomIdx).GetType()\n",
    "\n",
    "\n",
    "row_list = []\n"
   ]
  },
  {
   "cell_type": "markdown",
   "metadata": {},
   "source": [
    "### Reading through molecular data\n",
    "The next thing to do is read through all of the directories the files are contained in to be able to get bond, angle, and torsion information of the conformers"
   ]
  },
  {
   "cell_type": "code",
   "execution_count": 2,
   "metadata": {},
   "outputs": [
    {
     "name": "stderr",
     "output_type": "stream",
     "text": [
      "/Users/dakota/anaconda/lib/python3.6/site-packages/pandas/core/indexes/api.py:77: RuntimeWarning: '<' not supported between instances of 'str' and 'int', sort order is undefined for incomparable objects\n",
      "  result = result.union(other)\n"
     ]
    }
   ],
   "source": [
    "# Read through all the files in the folder of this directory\n",
    "# for directory in glob.iglob(\"/Users/dakota/Documents/Research/conformers/*CHG_jobs/*\"):\n",
    "for directory in glob.iglob(\"/Users/dakota/Documents/Research/ForDakota/omegacsd_YAGWOS/*\"):\n",
    "    name = \"/\".join(directory.split('/')[0:2])  # name of the entry\n",
    "\n",
    "    # for files in glob.iglob(directory + \"/rmsd*.mol\"):\n",
    "    for files in glob.iglob(directory + \"/rmsd*.out\"):\n",
    "        conf = files.split('/')[-1]  # conformer name/number\n",
    "\n",
    "        try:\n",
    "            # Use this for Python 2.7\n",
    "            # mol = pybel.readfile('format', argument).next()\n",
    "            # Use this for Python 3.6\n",
    "            # readfile(format, filename)\n",
    "            # mol = next(pybel.readfile('mol', files))\n",
    "            mol = next(pybel.readfile('out', files))\n",
    "        except:\n",
    "            pass\n",
    "\n",
    "        # In this case I do not include Energy as that is our dependent variable\n",
    "        # ideally, we should turn this into an atomization energy\n",
    "        energy = [mol.energy] # in kcal/mol\n",
    "\n",
    "        # iterate through all atoms\n",
    "        #  .. this is commented out because Bag Of Bonds doesn't use atomic charges\n",
    "        # for atom in mol.atoms:\n",
    "        #    print \"Atom %d, %8.4f\" % (atom.type, atom.partialcharge)\n",
    "\n",
    "        bonds = []\n",
    "        for bond in ob.OBMolBondIter(mol.OBMol):\n",
    "            begin = atomType(mol, bond.GetBeginAtomIdx())\n",
    "            end = atomType(mol, bond.GetEndAtomIdx())\n",
    "            if (end < begin):\n",
    "                # swap them for lexographic order\n",
    "                begin, end = end, begin\n",
    "            dict2 = {}\n",
    "            bond_type = (\"%s%s\" % (begin[0], end[0]))\n",
    "            bond_length = (\"%8.4f\" % (bond.GetLength()))\n",
    "            dict2.update({'Bond Type': bond_type})\n",
    "            dict2.update({'Bond Length': bond_length})\n",
    "            bonds.append(dict2)\n",
    "\n",
    "        dfb = pd.DataFrame(bonds, columns=['Bond Type', 'Bond Length'])\n",
    "        # Encode the bond types into numerical representations for sklearn\n",
    "        poss_types = {'CC': 0, 'CF': 1, 'CH': 2, 'CN': 3, 'CO': 4, 'CP': 5, 'CS': 6,\n",
    "                      'HN': 7, 'HO': 8, 'OS': 9, 'OP': 10, 'NS': 11, 'NN': 12, 'NO': 13, 'BC': 14}\n",
    "        dfb['Bond Type'] = dfb['Bond Type'].map(poss_types)\n",
    "        # When iterating through molecueles with different number of bonds it will be \n",
    "        # .. important that the matrices are still the same length\n",
    "        bond_difference = 500 - len(bonds)\n",
    "        bond_extra = ([None] * bond_difference)\n",
    "        dfb = pd.DataFrame.append(dfb, bond_extra)\n",
    "        dfb = dfb.fillna(-99999)\n",
    "        dfb.drop([0], inplace=True, axis=1)\n",
    "\n",
    "        # iterate through all angles\n",
    "        angles = []\n",
    "        for angle in ob.OBMolAngleIter(mol.OBMol):\n",
    "            a = (angle[0] + 1)\n",
    "            b = mol.OBMol.GetAtom(angle[1] + 1)\n",
    "            c = (angle[2] + 1)\n",
    "\n",
    "            aType = atomType(mol, a)\n",
    "            cType = atomType(mol, c)\n",
    "            if (cType < aType):\n",
    "                # swap them for lexographic order\n",
    "                aType, cType = cType, aType\n",
    "            dict3 = {}\n",
    "            angle_type = (\"%s-%s-%s\" %\n",
    "                          (aType[0], b.GetType()[0], cType[0]))\n",
    "            angle_angle = (\"%8.3f\" % (b.GetAngle(a, c)))\n",
    "            dict3.update({'Angle Type': angle_type})\n",
    "            dict3.update({'Angle': angle_angle})\n",
    "            angles.append(dict3)\n",
    "\n",
    "        dfa = pd.DataFrame(angles, columns=['Angle Type', 'Angle'])\n",
    "        # Encode the angle types into numerical representations for sklearn\n",
    "        angle_encoding = pd.read_csv(\n",
    "            '/Users/dakota/PycharmProjects/Research/MolecularLearning/molecular_learning/angle.csv')\n",
    "        poss_angle_types = list(angle_encoding.set_index(\n",
    "            'Angle').to_dict().values()).pop()\n",
    "        dfa['Angle Type'] = dfa['Angle Type'].map(poss_angle_types)\n",
    "        \n",
    "        angle_difference = 500 - len(angles)\n",
    "        angle_extra = ([None] * angle_difference)\n",
    "        dfa = pd.DataFrame.append(dfa, angle_extra)\n",
    "        dfa = dfa.fillna(-99999)\n",
    "        dfa.drop([0], inplace=True, axis=1)\n",
    "\n",
    "        # iterate through all torsions\n",
    "#         torsions = []\n",
    "#         for torsion in ob.OBMolTorsionIter(mol.OBMol):\n",
    "#             a = (torsion[0] + 1)\n",
    "#             b = (torsion[1] + 1)\n",
    "#             c = (torsion[2] + 1)\n",
    "#             d = (torsion[3] + 1)\n",
    "\n",
    "#             aType = atomType(mol, a)\n",
    "#             bType = atomType(mol, b)\n",
    "#             cType = atomType(mol, c)\n",
    "#             dType = atomType(mol, d)\n",
    "\n",
    "#             dict4 = {}\n",
    "#             # output in lexographic order\n",
    "#             if (aType[0] < dType[0]):\n",
    "#                 torsion_type = (\"%s-%s-%s-%s\" %\n",
    "#                                 (aType[0], bType[0], cType[0], dType[0]))\n",
    "#                 torsion_angle = (\"%8.3f\" %\n",
    "#                                  (abs(mol.OBMol.GetTorsion(a, b, c, d))))\n",
    "#                 dict4.update({'Torsion Type': torsion_type})\n",
    "#                 dict4.update({'Torsion': torsion_angle})\n",
    "#                 torsions.append(dict4)\n",
    "#             else:\n",
    "#                 torsion_type = (\"%s-%s-%s-%s\" %\n",
    "#                                 (dType[0], cType[0], bType[0], aType[0]))\n",
    "#                 torsion_angle = (\"%8.3f\" %\n",
    "#                                  (abs(mol.OBMol.GetTorsion(a, b, c, d))))\n",
    "#                 dict4.update({'Torsion Type': torsion_type})\n",
    "#                 dict4.update({'Torsion': torsion_angle})\n",
    "#                 torsions.append(dict4)\n",
    "\n",
    "#         dftor = pd.DataFrame(torsions, columns=['Torsion Type', 'Torsion'])\n",
    "#         # Encode the angle types into numerical representations for sklearn\n",
    "#         torsion_encoding = pd.read_csv(\n",
    "#             '/Users/dakota/PycharmProjects/Research/MolecularLearning/molecular_learning/torsion.csv')\n",
    "#         poss_torsion_types = list(torsion_encoding.set_index(\n",
    "#             'Torsion').to_dict().values()).pop()\n",
    "#         dftor['Torsion Type'] = dftor['Torsion Type'].map(poss_torsion_types)\n",
    "\n",
    "#         torsion_difference = 500 - len(torsions)\n",
    "#         torsion_extra = ([None] * torsion_difference)\n",
    "#         dftor = pd.DataFrame.append(dftor, torsion_extra)\n",
    "#         dftor = dftor.fillna(-99999)\n",
    "#         dftor.drop([0], inplace=True, axis=1)\n",
    "\n",
    "        # store the bonds angles and torsions as molecule descriptors\n",
    "        # molecule_descriptor = pd.concat(\n",
    "        #     [dfb['Bond Type'], dfb['Bond Length'], dfa['Angle Type'], dfa['Angle'], dftor['Torsion Type'], dftor['Torsion']])\n",
    "        molecule_descriptor = pd.concat(\n",
    "            [dfb['Bond Type'], dfb['Bond Length'], dfa['Angle Type'], dfa['Angle']])\n",
    "        # molecule_descriptor = pd.concat([dfb['Bond Type'], dfb['Bond Length']])\n",
    "        \n",
    "        # store the descriptors for the molecules in a dictionary\n",
    "        dict1 = {}\n",
    "        dict1.update({'Molecule': molecule_descriptor})\n",
    "        dict1.update({'Name': name})\n",
    "        dict1.update({'Conformer': conf})\n",
    "        dict1.update({'Energy': energy})\n",
    "        row_list.append(dict1)\n",
    "        \n",
    "        \n",
    "# Make a dataframe of all the molecules, their descriptors and energies\n",
    "df = pd.DataFrame(row_list, columns=[\n",
    "    'Name', 'Conformer', 'Molecule', 'Energy'])\n"
   ]
  },
  {
   "cell_type": "markdown",
   "metadata": {},
   "source": [
    "### Organization for scikit-learn\n",
    "Now that all of the molecule information is in a dataframe, we need to create an array of the molecule information and corresponding energy information"
   ]
  },
  {
   "cell_type": "code",
   "execution_count": 3,
   "metadata": {
    "collapsed": true
   },
   "outputs": [],
   "source": [
    "molecules = df['Molecule']\n",
    "Energy = df['Energy']\n",
    "\n",
    "X = np.asarray(list(molecules), dtype=np.float)\n",
    "y = np.asarray(list(Energy), dtype=np.float)\n"
   ]
  },
  {
   "cell_type": "markdown",
   "metadata": {},
   "source": [
    "### Training and Learning\n",
    "From here we can split the molecules up into training and test sets using sklearn. The training set is roughly 80% of the total data set of molecules. \n",
    "\n",
    "The classifier that we are using in Kernel Ridge Regression with the radial basis function(Gaussian) kernel. \n",
    "\n",
    "The r^2 values and Mean Absolute Error values are included in order to determine how well the ML is doing at predicting energy values.\n",
    "\n",
    "Finally a dataframe is made in order to easily compare the predicted and actual energy values of the test set. This can be commented out when test sizes are much larger if needed."
   ]
  },
  {
   "cell_type": "code",
   "execution_count": 4,
   "metadata": {},
   "outputs": [
    {
     "name": "stdout",
     "output_type": "stream",
     "text": [
      "(194, 2000)\n",
      "(194, 1)\n",
      "r^2 = 0.896467965962\n",
      "Mean Absolute Error = 1.3214174426\n",
      "    Predicted    Actual\n",
      "0   38.123047  37.99296\n",
      "1   30.488281  30.62470\n",
      "2   29.433594  29.55258\n",
      "3   47.652344  48.37942\n",
      "4   38.136719  38.04830\n",
      "5   39.409180  39.28339\n",
      "6   34.074219  34.68026\n",
      "7   24.158203  24.29112\n",
      "8   41.357422  41.60878\n",
      "9   24.631836  24.33508\n",
      "10  26.911133  26.82933\n",
      "11  29.251953  29.62602\n",
      "12  24.288086  24.24726\n",
      "13  57.480469  58.84257\n",
      "14  29.781250  47.61253\n",
      "15  57.710938  57.98559\n",
      "16  29.550781  29.75573\n",
      "17  50.116211  49.46573\n",
      "18  58.325195  55.93851\n",
      "19  30.523438  29.98644\n",
      "20  49.021484  48.84469\n",
      "21  29.998047  29.87665\n",
      "22  30.655273  30.60003\n",
      "23  33.277344  30.21202\n",
      "24  29.128906  30.14309\n",
      "25  29.551758  29.69570\n",
      "26  63.313477  61.14971\n",
      "27  29.810547  31.47191\n",
      "28  50.034180  49.34509\n",
      "29  48.808594  48.98810\n",
      "30  27.098633  26.76722\n",
      "31  30.571289  29.64982\n",
      "32  28.625977  29.96132\n",
      "33  30.771484  30.92789\n",
      "34  39.568359  29.90999\n",
      "35  46.001953  46.00179\n",
      "36  44.820312  44.89017\n",
      "37  29.215820  29.82660\n",
      "38  37.997070  38.11322\n",
      "39  53.558594  54.22255\n",
      "40  46.666016  46.23218\n",
      "41  26.735352  26.81551\n",
      "42  40.808594  30.25584\n",
      "43  22.523438  22.15483\n",
      "44  28.431641  28.34972\n",
      "45  46.734375  48.21682\n",
      "46  30.007812  29.78810\n",
      "47  29.786133  29.81540\n",
      "48  44.904297  42.89575\n"
     ]
    },
    {
     "name": "stderr",
     "output_type": "stream",
     "text": [
      "/Users/dakota/anaconda/lib/python3.6/site-packages/scipy/linalg/basic.py:223: RuntimeWarning: scipy.linalg.solve\n",
      "Ill-conditioned matrix detected. Result is not guaranteed to be accurate.\n",
      "Reciprocal condition number: 8.755029347066532e-17\n",
      "  ' condition number: {}'.format(rcond), RuntimeWarning)\n"
     ]
    }
   ],
   "source": [
    "# split the molecules up into training and testing sets\n",
    "X_train, X_test, y_train, y_test = train_test_split(X, y, test_size=0.2)\n",
    "print(X_train.shape)\n",
    "print(y_train.shape)\n",
    "\n",
    "clf = KernelRidge(gamma='rbf')\n",
    "clf.fit(X_train, y_train)\n",
    "accuracy = clf.score(X_test, y_test)\n",
    "r2 = (\"%8.3f\" % accuracy)\n",
    "print('r^2 =', accuracy)\n",
    "\n",
    "predicted = clf.predict(X_test)\n",
    "\n",
    "mae = mean_absolute_error(y_test, predicted)\n",
    "print('Mean Absolute Error =', mae)\n",
    "\n",
    "# dataframe to organize the predicted and actual values\n",
    "df_predicted = pd.DataFrame(predicted, columns=['Predicted'])\n",
    "df_actual = pd.DataFrame(y_test, columns=['Actual'])\n",
    "df_compare = pd.concat([df_predicted, df_actual], axis=1)\n",
    "print(df_compare)\n"
   ]
  },
  {
   "cell_type": "markdown",
   "metadata": {},
   "source": [
    "### Plotting\n",
    "Finally the predicted vs the actual values are plotted to give a visual sense of how well the ML is working."
   ]
  },
  {
   "cell_type": "code",
   "execution_count": 5,
   "metadata": {},
   "outputs": [
    {
     "data": {
      "image/png": "[encoded data removed]",
      "text/plain": [
       "<matplotlib.figure.Figure at 0x102bdeda0>"
      ]
     },
     "metadata": {},
     "output_type": "display_data"
    }
   ],
   "source": [
    "# plotting the actual vs. the predicted to get a visual representation\n",
    "plt.figure(figsize=(8, 6))\n",
    "plt.scatter(predicted, y_test)\n",
    "plt.annotate('$r^2$=' + str(r2), xy=(0.97, 0.10),\n",
    "             xycoords='axes fraction', ha='right')\n",
    "plt.annotate('$MAE$=' + str(\"%8.4f\" % mae), xy=(0.97, 0.05),\n",
    "             xycoords='axes fraction', ha='right')\n",
    "plt.title('Comparison of Energies (Kcal/mol)', fontsize=16)\n",
    "plt.xlabel('Predicted', fontsize=12)\n",
    "plt.ylabel('Actual', fontsize=12)\n",
    "plt.grid(False)\n",
    "plt.show()\n"
   ]
  }
 ],
 "metadata": {
  "kernelspec": {
   "display_name": "Python 3",
   "language": "python",
   "name": "python3"
  },
  "language_info": {
   "codemirror_mode": {
    "name": "ipython",
    "version": 3
   },
   "file_extension": ".py",
   "mimetype": "text/x-python",
   "name": "python",
   "nbconvert_exporter": "python",
   "pygments_lexer": "ipython3",
   "version": "3.6.1"
  }
 },
 "nbformat": 4,
 "nbformat_minor": 2
}
