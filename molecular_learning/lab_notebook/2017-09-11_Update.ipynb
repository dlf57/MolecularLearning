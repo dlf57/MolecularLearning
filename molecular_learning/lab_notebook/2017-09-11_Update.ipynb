{
 "cells": [
  {
   "cell_type": "markdown",
   "metadata": {},
   "source": [
    "# Molecular Learning\n",
    "Sept. 11, 2017"
   ]
  },
  {
   "cell_type": "markdown",
   "metadata": {},
   "source": [
    "## >Morning work\n",
    "### Store molecule info in csv\n",
    "Working on prac_csv.py\n",
    "\n",
    "Attempting to store molecule information into a csv that I can merge with the data.csv that contains energy calculations.\n",
    "\n",
    "The issue that arose with this was the molecule information got converted to a string when put into a csv causing issues when reading it out."
   ]
  },
  {
   "cell_type": "code",
   "execution_count": null,
   "metadata": {
    "collapsed": true
   },
   "outputs": [],
   "source": [
    "import glob\n",
    "import numpy as np\n",
    "import pybel\n",
    "import pandas as pd\n",
    "from sklearn.model_selection import train_test_split\n",
    "from sklearn.kernel_ridge import KernelRidge\n",
    "from sklearn.metrics import mean_absolute_error\n",
    "import matplotlib.pyplot as plt\n",
    "from matplotlib import style\n",
    "import csv\n",
    "\n",
    "ob = pybel.ob\n",
    "\n",
    "\n",
    "def atomType(mol, atomIdx):\n",
    "    # get the atomic type given an atom index\n",
    "    return mol.OBMol.GetAtom(atomIdx).GetType()\n",
    "\n",
    "\n",
    "row_list = []\n",
    "\n",
    "# Read through all the files in the folder of this directory\n",
    "for directory in glob.iglob(\"/Users/dakota/Documents/Research/conformers/*CHG_jobs/*\"):\n",
    "    name = \"/\".join(directory.split('/')[6:10])  # name of the entry\n",
    "\n",
    "    for files in glob.iglob(directory + \"/rmsd*.mol\"):\n",
    "        conf = files.split('/')[-1]  # conformer name/number\n",
    "\n",
    "        try:\n",
    "            mol = next(pybel.readfile('mol', files))\n",
    "        except:\n",
    "            pass\n",
    "\n",
    "        bonds = []\n",
    "        for bond in ob.OBMolBondIter(mol.OBMol):\n",
    "            begin = atomType(mol, bond.GetBeginAtomIdx())\n",
    "            end = atomType(mol, bond.GetEndAtomIdx())\n",
    "            if (end < begin):\n",
    "                # swap them for lexographic order\n",
    "                begin, end = end, begin\n",
    "            dict2 = {}\n",
    "            bond_type = (\"%s%s\" % (begin[0], end[0]))\n",
    "            bond_length = (\"%8.4f\" % (bond.GetLength()))\n",
    "            dict2.update({'Bond Type': bond_type})\n",
    "            dict2.update({'Bond Length': bond_length})\n",
    "            bonds.append(dict2)\n",
    "\n",
    "        dfb = pd.DataFrame(bonds, columns=['Bond Type', 'Bond Length'])\n",
    "        # Encode the bond types into numerical representations for sklearn\n",
    "        poss_types = {'CC': 0, 'CF': 1, 'CH': 2, 'CN': 3, 'CO': 4, 'CP': 5, 'CS': 6,\n",
    "                      'HN': 7, 'HO': 8, 'OS': 9, 'OP': 10, 'NS': 11, 'NN': 12, 'NO': 13, 'BC': 14}\n",
    "        dfb['Bond Type'] = dfb['Bond Type'].map(poss_types)\n",
    "        # When iterating through molecueles with different number of bonds it will be \n",
    "        # .. important that the matrices are still the same length\n",
    "        bond_difference = 500 - len(bonds)\n",
    "        bond_extra = ([None] * bond_difference)\n",
    "        dfb = pd.DataFrame.append(dfb, bond_extra)\n",
    "        dfb = dfb.fillna(-99999)\n",
    "        dfb.drop([0], inplace=True, axis=1)\n",
    "\n",
    "        # store the descriptors for the molecules in a dictionary\n",
    "        dict1 = {}\n",
    "        dict1.update({'Molecule': dfb})\n",
    "        dict1.update({'Name': name})\n",
    "        dict1.update({'Conformer': conf})\n",
    "        row_list.append(dict1)\n",
    "        \n",
    "        \n",
    "# Make a dataframe of all the molecules, their descriptors and energies\n",
    "df = pd.DataFrame(row_list, columns=['Name', 'Conformer', 'Molecule'])\n",
    "\n",
    "df.to_csv('/Users/dakota/PycharmProjects/Research/MolecularLearning/molecular_learning/molecule.csv')\n",
    "\n"
   ]
  },
  {
   "cell_type": "markdown",
   "metadata": {},
   "source": [
    "### Reading from csv\n",
    "After this part was ran, the molecule information and energy information were merged into one csv file and organized to ensure the data properly lined up.\n",
    "\n",
    "From here the there was an attempt to read the newly merged csv file."
   ]
  },
  {
   "cell_type": "code",
   "execution_count": 4,
   "metadata": {},
   "outputs": [
    {
     "ename": "ValueError",
     "evalue": "could not convert string to float: '     1         2\\r0    0    1.3954\\r1    0    1.3947\\r2    0    1.3914\\r3    6    1.7854\\r4    0    1.3911\\r5    0    1.3973\\r6    2    1.0977\\r7    0    1.4991\\r8    0    1.3982\\r9    0    1.4980\\r10   0    1.5260\\r11   2    1.1160\\r12   2    1.1178\\r13   3    1.5210\\r14   3    1.5193\\r15   7    1.0415\\r16   7    1.0443\\r17   2    1.1211\\r18   2    1.1203\\r19   9    1.4369\\r20   9    1.4368\\r21  11    1.7293\\r22   2    1.0917\\r23   2    1.1012\\r24   2    1.1157\\r25   2    1.1197\\r26   7    1.0118\\r27   7    1.0116'",
     "output_type": "error",
     "traceback": [
      "\u001b[0;31m---------------------------------------------------------------------------\u001b[0m",
      "\u001b[0;31mValueError\u001b[0m                                Traceback (most recent call last)",
      "\u001b[0;32m<ipython-input-4-e45acd6606dc>\u001b[0m in \u001b[0;36m<module>\u001b[0;34m()\u001b[0m\n\u001b[1;32m      7\u001b[0m \u001b[0mEnergy\u001b[0m \u001b[0;34m=\u001b[0m \u001b[0mdf_molecules\u001b[0m\u001b[0;34m[\u001b[0m\u001b[0;34m'pm7'\u001b[0m\u001b[0;34m]\u001b[0m\u001b[0;34m\u001b[0m\u001b[0m\n\u001b[1;32m      8\u001b[0m \u001b[0;34m\u001b[0m\u001b[0m\n\u001b[0;32m----> 9\u001b[0;31m \u001b[0mX\u001b[0m \u001b[0;34m=\u001b[0m \u001b[0mnp\u001b[0m\u001b[0;34m.\u001b[0m\u001b[0masarray\u001b[0m\u001b[0;34m(\u001b[0m\u001b[0mlist\u001b[0m\u001b[0;34m(\u001b[0m\u001b[0mmolecules\u001b[0m\u001b[0;34m)\u001b[0m\u001b[0;34m,\u001b[0m \u001b[0mdtype\u001b[0m\u001b[0;34m=\u001b[0m\u001b[0mnp\u001b[0m\u001b[0;34m.\u001b[0m\u001b[0mfloat\u001b[0m\u001b[0;34m)\u001b[0m\u001b[0;34m\u001b[0m\u001b[0m\n\u001b[0m\u001b[1;32m     10\u001b[0m \u001b[0my\u001b[0m \u001b[0;34m=\u001b[0m \u001b[0mnp\u001b[0m\u001b[0;34m.\u001b[0m\u001b[0masarray\u001b[0m\u001b[0;34m(\u001b[0m\u001b[0mlist\u001b[0m\u001b[0;34m(\u001b[0m\u001b[0mEnergy\u001b[0m\u001b[0;34m)\u001b[0m\u001b[0;34m,\u001b[0m \u001b[0mdtype\u001b[0m\u001b[0;34m=\u001b[0m\u001b[0mnp\u001b[0m\u001b[0;34m.\u001b[0m\u001b[0mfloat\u001b[0m\u001b[0;34m)\u001b[0m\u001b[0;34m\u001b[0m\u001b[0m\n",
      "\u001b[0;32m/Users/dakota/anaconda/lib/python3.6/site-packages/numpy/core/numeric.py\u001b[0m in \u001b[0;36masarray\u001b[0;34m(a, dtype, order)\u001b[0m\n\u001b[1;32m    529\u001b[0m \u001b[0;34m\u001b[0m\u001b[0m\n\u001b[1;32m    530\u001b[0m     \"\"\"\n\u001b[0;32m--> 531\u001b[0;31m     \u001b[0;32mreturn\u001b[0m \u001b[0marray\u001b[0m\u001b[0;34m(\u001b[0m\u001b[0ma\u001b[0m\u001b[0;34m,\u001b[0m \u001b[0mdtype\u001b[0m\u001b[0;34m,\u001b[0m \u001b[0mcopy\u001b[0m\u001b[0;34m=\u001b[0m\u001b[0;32mFalse\u001b[0m\u001b[0;34m,\u001b[0m \u001b[0morder\u001b[0m\u001b[0;34m=\u001b[0m\u001b[0morder\u001b[0m\u001b[0;34m)\u001b[0m\u001b[0;34m\u001b[0m\u001b[0m\n\u001b[0m\u001b[1;32m    532\u001b[0m \u001b[0;34m\u001b[0m\u001b[0m\n\u001b[1;32m    533\u001b[0m \u001b[0;34m\u001b[0m\u001b[0m\n",
      "\u001b[0;31mValueError\u001b[0m: could not convert string to float: '     1         2\\r0    0    1.3954\\r1    0    1.3947\\r2    0    1.3914\\r3    6    1.7854\\r4    0    1.3911\\r5    0    1.3973\\r6    2    1.0977\\r7    0    1.4991\\r8    0    1.3982\\r9    0    1.4980\\r10   0    1.5260\\r11   2    1.1160\\r12   2    1.1178\\r13   3    1.5210\\r14   3    1.5193\\r15   7    1.0415\\r16   7    1.0443\\r17   2    1.1211\\r18   2    1.1203\\r19   9    1.4369\\r20   9    1.4368\\r21  11    1.7293\\r22   2    1.0917\\r23   2    1.1012\\r24   2    1.1157\\r25   2    1.1197\\r26   7    1.0118\\r27   7    1.0116'"
     ]
    }
   ],
   "source": [
    "df_molecules = pd.read_csv(\n",
    "    '/Users/dakota/PycharmProjects/Research/MolecularLearning/molecular_learning/molecule.csv')\n",
    "\n",
    "molecules = df_molecules['Molecule']\n",
    "Energy = df_molecules['pm7']\n",
    "\n",
    "X = np.asarray(list(molecules), dtype=np.float)\n",
    "y = np.asarray(list(Energy), dtype=np.float)\n"
   ]
  },
  {
   "cell_type": "markdown",
   "metadata": {},
   "source": [
    "### Not working and where to go from here\n",
    "I kinda figured this way would not workout but was just trying to see if this was at all possible to do. I am going to go back to trying to merge the data.csv file into a pandas dataframe with the one created from reading through the molecule.\n",
    "\n",
    "I may attempt this again, but from a different route. It might be beneficial in the future to somehow save all of the molecular information and then import it. Currently, the time requirement for my script (~20 secs for N=1700) stems mostly from reading through the molecules and organizing them, something I currently have to do everytime I want to run the ML on the molecules. The ML itself is not the bottleneck and finishes relatively quickly. It would be improve workflow if everytime I trained the ML that I did not have to read back through the molecules again."
   ]
  },
  {
   "cell_type": "markdown",
   "metadata": {},
   "source": [
    "## >Afternoon\n",
    "### Merging w/ data.csv\n",
    "This afternoon I will be working on merging data.csv that contains all of the energy values with molecule dataframe that I make in pandas. The main problem that needs fixing is ensuring that when I merge, the correct energy value lines up with the correct molecule. One main issue has been that the data.csv order goes pm7, opt, mmff which causes some issues when merging. It will merge on the correct number molecule, but it does not seem to put it with the correct optimization."
   ]
  },
  {
   "cell_type": "markdown",
   "metadata": {},
   "source": [
    "## >For tomorrow\n",
    "Continue trying to make progress combining data.csv with the molecule dataframe"
   ]
  }
 ],
 "metadata": {
  "kernelspec": {
   "display_name": "Python 3",
   "language": "python",
   "name": "python3"
  },
  "language_info": {
   "codemirror_mode": {
    "name": "ipython",
    "version": 3
   },
   "file_extension": ".py",
   "mimetype": "text/x-python",
   "name": "python",
   "nbconvert_exporter": "python",
   "pygments_lexer": "ipython3",
   "version": "3.6.1"
  }
 },
 "nbformat": 4,
 "nbformat_minor": 2
}
