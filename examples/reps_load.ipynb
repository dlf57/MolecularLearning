{
 "cells": [
  {
   "cell_type": "markdown",
   "metadata": {},
   "source": [
    "# Load molecule and build representation\n",
    "\n",
    "Dakota Folmsbee, August 2018"
   ]
  },
  {
   "cell_type": "code",
   "execution_count": 1,
   "metadata": {},
   "outputs": [],
   "source": [
    "from molreps.reps import Representation\n",
    "import pybel"
   ]
  },
  {
   "cell_type": "markdown",
   "metadata": {},
   "source": [
    "### Molecule\n",
    "The cell below is going to build the molecule from the sdf file that is in the tests directory, but other chemical file formats can be used as well. Even some output files from common computational chemistry software can be read thanks to the use of pybel to read the molecule file."
   ]
  },
  {
   "cell_type": "code",
   "execution_count": 2,
   "metadata": {},
   "outputs": [],
   "source": [
    "mol_file = './../tests/butane.sdf'"
   ]
  },
  {
   "cell_type": "markdown",
   "metadata": {},
   "source": [
    "### Import molecule into pybel\n",
    "Pybel, the OpenBabel python API is used to read the molecule file that will get passed along to molreps that will then use pybel to create the molecular representation. More information can be found in the OpenBabel docs about [Input/Output with Pybel](https://openbabel.org/docs/dev/UseTheLibrary/Python_Pybel.html#id2) and all of the supported file formats."
   ]
  },
  {
   "cell_type": "code",
   "execution_count": 3,
   "metadata": {},
   "outputs": [
    {
     "data": {
      "image/svg+xml": [
       "<svg xmlns=\"http://www.w3.org/2000/svg\" font-family=\"sans-serif\" height=\"100\" stroke=\"rgb(0,0,0)\" stroke-linecap=\"round\" stroke-width=\"2\" viewBox=\"0 0 234.641 194.641\" width=\"100\" x=\"0\" y=\"0\">\n",
       "<line stroke=\"rgb(0,0,0)\" stroke-width=\"2.0\" x1=\"80.0\" x2=\"80.0\" y1=\"114.6\" y2=\"141.6\" />\n",
       "<line stroke=\"rgb(0,0,0)\" stroke-width=\"2.0\" x1=\"100.0\" x2=\"80.0\" y1=\"80.0\" y2=\"114.6\" />\n",
       "<line stroke=\"rgb(0,0,0)\" stroke-width=\"2.0\" x1=\"100.0\" x2=\"100.0\" y1=\"80.0\" y2=\"53.0\" />\n",
       "<line stroke=\"rgb(0,0,0)\" stroke-width=\"2.0\" x1=\"100.0\" x2=\"76.6\" y1=\"80.0\" y2=\"66.5\" />\n",
       "<line stroke=\"rgb(0,0,0)\" stroke-width=\"2.0\" x1=\"140.0\" x2=\"100.0\" y1=\"80.0\" y2=\"80.0\" />\n",
       "<line stroke=\"rgb(0,0,0)\" stroke-width=\"2.0\" x1=\"160.0\" x2=\"183.4\" y1=\"114.6\" y2=\"128.1\" />\n",
       "<line stroke=\"rgb(0,0,0)\" stroke-width=\"2.0\" x1=\"160.0\" x2=\"140.0\" y1=\"114.6\" y2=\"80.0\" />\n",
       "<line stroke=\"rgb(0,0,0)\" stroke-width=\"2.0\" x1=\"160.0\" x2=\"183.4\" y1=\"114.6\" y2=\"101.1\" />\n",
       "<line stroke=\"rgb(0,0,0)\" stroke-width=\"2.0\" x1=\"103.4\" x2=\"80.0\" y1=\"128.1\" y2=\"114.6\" />\n",
       "<line stroke=\"rgb(0,0,0)\" stroke-width=\"2.0\" x1=\"53.0\" x2=\"80.0\" y1=\"114.6\" y2=\"114.6\" />\n",
       "<line stroke=\"rgb(0,0,0)\" stroke-width=\"2.0\" x1=\"163.4\" x2=\"140.0\" y1=\"66.5\" y2=\"80.0\" />\n",
       "<line stroke=\"rgb(0,0,0)\" stroke-width=\"2.0\" x1=\"140.0\" x2=\"140.0\" y1=\"53.0\" y2=\"80.0\" />\n",
       "<line stroke=\"rgb(0,0,0)\" stroke-width=\"2.0\" x1=\"146.5\" x2=\"160.0\" y1=\"138.0\" y2=\"114.6\" />\n",
       "<text fill=\"rgb(191,191,191)\" font-size=\"16\" stroke=\"rgb(191,191,191)\" stroke-width=\"1\" x=\"108.641016\" y=\"142.641016\">H</text>\n",
       "<text fill=\"rgb(191,191,191)\" font-size=\"16\" stroke=\"rgb(191,191,191)\" stroke-width=\"1\" x=\"34.000000\" y=\"122.641016\">H</text>\n",
       "<text fill=\"rgb(191,191,191)\" font-size=\"16\" stroke=\"rgb(191,191,191)\" stroke-width=\"1\" x=\"74.000000\" y=\"162.641016\">H</text>\n",
       "<text fill=\"rgb(191,191,191)\" font-size=\"16\" stroke=\"rgb(191,191,191)\" stroke-width=\"1\" x=\"59.358984\" y=\"68.000000\">H</text>\n",
       "<text fill=\"rgb(191,191,191)\" font-size=\"16\" stroke=\"rgb(191,191,191)\" stroke-width=\"1\" x=\"94.000000\" y=\"48.000000\">H</text>\n",
       "<text fill=\"rgb(191,191,191)\" font-size=\"16\" stroke=\"rgb(191,191,191)\" stroke-width=\"1\" x=\"168.641016\" y=\"68.000000\">H</text>\n",
       "<text fill=\"rgb(191,191,191)\" font-size=\"16\" stroke=\"rgb(191,191,191)\" stroke-width=\"1\" x=\"134.000000\" y=\"48.000000\">H</text>\n",
       "<text fill=\"rgb(191,191,191)\" font-size=\"16\" stroke=\"rgb(191,191,191)\" stroke-width=\"1\" x=\"188.641016\" y=\"102.641016\">H</text>\n",
       "<text fill=\"rgb(191,191,191)\" font-size=\"16\" stroke=\"rgb(191,191,191)\" stroke-width=\"1\" x=\"188.641016\" y=\"142.641016\">H</text>\n",
       "<text fill=\"rgb(191,191,191)\" font-size=\"16\" stroke=\"rgb(191,191,191)\" stroke-width=\"1\" x=\"134.000000\" y=\"157.282032\">H</text>\n",
       "</svg>\n"
      ],
      "text/plain": [
       "<pybel.Molecule at 0x7fa700204550>"
      ]
     },
     "execution_count": 3,
     "metadata": {},
     "output_type": "execute_result"
    }
   ],
   "source": [
    "mol = next(pybel.readfile('sdf', mol_file))\n",
    "mol"
   ]
  },
  {
   "cell_type": "markdown",
   "metadata": {},
   "source": [
    "### Set desired representation\n",
    "To build the desired representation, the representation is called as a string. The cell below is calling to use the bond representation. The cell also shows a parameter n_bonds which tells molreps how many bonds are in the molecule. The default n_bonds is quite large to ensure padding of all molecule representations are the same for machine learning. The value can be increased or decreased depending on the size of the molecules being read in. There are also parameters that control the padding for angles and torsion representations as well. "
   ]
  },
  {
   "cell_type": "code",
   "execution_count": 4,
   "metadata": {},
   "outputs": [],
   "source": [
    "molecule = Representation('BTY', n_bonds=13)"
   ]
  },
  {
   "cell_type": "markdown",
   "metadata": {},
   "source": [
    "### Build representation"
   ]
  },
  {
   "cell_type": "code",
   "execution_count": null,
   "metadata": {},
   "outputs": [],
   "source": [
    "molecule.rep(mol)"
   ]
  },
  {
   "cell_type": "markdown",
   "metadata": {},
   "source": [
    "### Now you have a bonds representation for butane!"
   ]
  }
 ],
 "metadata": {
  "kernelspec": {
   "display_name": "Python 3",
   "language": "python",
   "name": "python3"
  },
  "language_info": {
   "codemirror_mode": {
    "name": "ipython",
    "version": 3
   },
   "file_extension": ".py",
   "mimetype": "text/x-python",
   "name": "python",
   "nbconvert_exporter": "python",
   "pygments_lexer": "ipython3",
   "version": "3.6.6"
  }
 },
 "nbformat": 4,
 "nbformat_minor": 2
}
